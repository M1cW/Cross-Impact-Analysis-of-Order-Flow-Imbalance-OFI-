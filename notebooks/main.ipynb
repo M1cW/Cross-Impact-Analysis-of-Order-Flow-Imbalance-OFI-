{
 "cells": [
  {
   "cell_type": "markdown",
   "metadata": {},
   "source": [
    "## Main Notebook for the task"
   ]
  },
  {
   "cell_type": "markdown",
   "metadata": {},
   "source": [
    "### Step 1 Compute OFI metrics \n",
    "1. Derive multi-level OFI metrics (up to 5 levels) for each stock in the dataset.\n",
    "2. Integrate these multi-level OFIs into a single metric using Principal Component Analysis (PCA) or another dimensionality reduction method."
   ]
  },
  {
   "cell_type": "markdown",
   "metadata": {},
   "source": [
    "#### Data-preprocessing\n",
    "I followed the instructions and retrieved data from AAPL, AMGN, TSLA, JPM, XOM from period 12/07/2024 to 01/07/2025 (one month).  "
   ]
  },
  {
   "cell_type": "code",
   "execution_count": 2,
   "metadata": {},
   "outputs": [],
   "source": [
    "import numpy as np\n",
    "import pandas as pd\n",
    "import matplotlib.pyplot as plt\n",
    "import os\n",
    "import databento as db"
   ]
  },
  {
   "cell_type": "code",
   "execution_count": 3,
   "metadata": {},
   "outputs": [
    {
     "data": {
      "text/plain": [
       "['/Users/mic/Desktop/Github/Cross-Impact-Analysis-of-Order-Flow-Imbalance-OFI-/data/XNAS-20250107-APPL',\n",
       " '/Users/mic/Desktop/Github/Cross-Impact-Analysis-of-Order-Flow-Imbalance-OFI-/data/XNAS-20250107-AMGN',\n",
       " '/Users/mic/Desktop/Github/Cross-Impact-Analysis-of-Order-Flow-Imbalance-OFI-/data/XNAS-20250107-TSLA',\n",
       " '/Users/mic/Desktop/Github/Cross-Impact-Analysis-of-Order-Flow-Imbalance-OFI-/data/XNAS-20250107-JPM',\n",
       " '/Users/mic/Desktop/Github/Cross-Impact-Analysis-of-Order-Flow-Imbalance-OFI-/data/XNAS-20250107-XOM']"
      ]
     },
     "execution_count": 3,
     "metadata": {},
     "output_type": "execute_result"
    }
   ],
   "source": [
    "data_directory=[]\n",
    "\n",
    "data_directory_AAPL=f\"/Users/mic/Desktop/Github/Cross-Impact-Analysis-of-Order-Flow-Imbalance-OFI-/data/XNAS-20250107-APPL\"\n",
    "data_directory_AMGN=f\"/Users/mic/Desktop/Github/Cross-Impact-Analysis-of-Order-Flow-Imbalance-OFI-/data/XNAS-20250107-AMGN\"\n",
    "data_directory_TSLA=f\"/Users/mic/Desktop/Github/Cross-Impact-Analysis-of-Order-Flow-Imbalance-OFI-/data/XNAS-20250107-TSLA\"\n",
    "data_directory_JPM=f\"/Users/mic/Desktop/Github/Cross-Impact-Analysis-of-Order-Flow-Imbalance-OFI-/data/XNAS-20250107-JPM\"\n",
    "data_directory_XOM=f\"/Users/mic/Desktop/Github/Cross-Impact-Analysis-of-Order-Flow-Imbalance-OFI-/data/XNAS-20250107-XOM\"\n",
    "\n",
    "data_directory.append(data_directory_AAPL)\n",
    "data_directory.append(data_directory_AMGN)\n",
    "data_directory.append(data_directory_TSLA)\n",
    "data_directory.append(data_directory_JPM)\n",
    "data_directory.append(data_directory_XOM)\n",
    "\n",
    "data_directory"
   ]
  },
  {
   "cell_type": "markdown",
   "metadata": {},
   "source": [
    "Making the downloads into dataframe. There are .dbn.zst files for days of MBP-10 order books, we transform it into pandas dataframe and concatenate data for days into a big dataset for each of the five companies. "
   ]
  },
  {
   "cell_type": "code",
   "execution_count": 4,
   "metadata": {},
   "outputs": [],
   "source": [
    "combined_dataframes=[]\n",
    "dataframes=[]\n",
    "for data_directory_company in data_directory:\n",
    "    for filename in os.listdir(data_directory_company):\n",
    "        if filename.endswith(\".dbn.zst\"):\n",
    "            file_path=os.path.join(data_directory_company, filename)\n",
    "            file_df=db.DBNStore.from_file(file_path).to_df()\n",
    "            dataframes.append(file_df)\n",
    "    combined_dataframes.append(pd.concat(dataframes, ignore_index=True))\n",
    "    dataframes=[]"
   ]
  },
  {
   "cell_type": "code",
   "execution_count": 7,
   "metadata": {},
   "outputs": [
    {
     "data": {
      "text/plain": [
       "5"
      ]
     },
     "execution_count": 7,
     "metadata": {},
     "output_type": "execute_result"
    }
   ],
   "source": [
    "len(combined_dataframes)"
   ]
  },
  {
   "cell_type": "code",
   "execution_count": 8,
   "metadata": {},
   "outputs": [],
   "source": [
    "combined_df_AAPL=combined_dataframes[0]\n",
    "combined_df_AMGN=combined_dataframes[1]\n",
    "combined_df_TSLA=combined_dataframes[2]\n",
    "combined_df_JPM=combined_dataframes[3]\n",
    "combined_df_XOM=combined_dataframes[4]\n"
   ]
  },
  {
   "cell_type": "code",
   "execution_count": 14,
   "metadata": {},
   "outputs": [
    {
     "data": {
      "text/plain": [
       "(25602477, 78)"
      ]
     },
     "execution_count": 14,
     "metadata": {},
     "output_type": "execute_result"
    }
   ],
   "source": [
    "combined_df_AAPL.shape"
   ]
  },
  {
   "cell_type": "code",
   "execution_count": 9,
   "metadata": {},
   "outputs": [
    {
     "name": "stdout",
     "output_type": "stream",
     "text": [
      "Stored 'combined_df_AAPL' (DataFrame)\n",
      "Stored 'combined_df_AMGN' (DataFrame)\n",
      "Stored 'combined_df_TSLA' (DataFrame)\n",
      "Stored 'combined_df_JPM' (DataFrame)\n",
      "Stored 'combined_df_XOM' (DataFrame)\n"
     ]
    }
   ],
   "source": [
    "%store combined_df_AAPL\n",
    "%store combined_df_AMGN\n",
    "%store combined_df_TSLA\n",
    "%store combined_df_JPM\n",
    "%store combined_df_XOM"
   ]
  },
  {
   "cell_type": "code",
   "execution_count": 10,
   "metadata": {},
   "outputs": [
    {
     "data": {
      "text/plain": [
       "Index(['ts_event', 'rtype', 'publisher_id', 'instrument_id', 'action', 'side',\n",
       "       'depth', 'price', 'size', 'flags', 'ts_in_delta', 'sequence',\n",
       "       'bid_px_00', 'ask_px_00', 'bid_sz_00', 'ask_sz_00', 'bid_ct_00',\n",
       "       'ask_ct_00', 'bid_px_01', 'ask_px_01', 'bid_sz_01', 'ask_sz_01',\n",
       "       'bid_ct_01', 'ask_ct_01', 'bid_px_02', 'ask_px_02', 'bid_sz_02',\n",
       "       'ask_sz_02', 'bid_ct_02', 'ask_ct_02', 'bid_px_03', 'ask_px_03',\n",
       "       'bid_sz_03', 'ask_sz_03', 'bid_ct_03', 'ask_ct_03', 'bid_px_04',\n",
       "       'ask_px_04', 'bid_sz_04', 'ask_sz_04', 'bid_ct_04', 'ask_ct_04',\n",
       "       'bid_px_05', 'ask_px_05', 'bid_sz_05', 'ask_sz_05', 'bid_ct_05',\n",
       "       'ask_ct_05', 'bid_px_06', 'ask_px_06', 'bid_sz_06', 'ask_sz_06',\n",
       "       'bid_ct_06', 'ask_ct_06', 'bid_px_07', 'ask_px_07', 'bid_sz_07',\n",
       "       'ask_sz_07', 'bid_ct_07', 'ask_ct_07', 'bid_px_08', 'ask_px_08',\n",
       "       'bid_sz_08', 'ask_sz_08', 'bid_ct_08', 'ask_ct_08', 'bid_px_09',\n",
       "       'ask_px_09', 'bid_sz_09', 'ask_sz_09', 'bid_ct_09', 'ask_ct_09',\n",
       "       'symbol'],\n",
       "      dtype='object')"
      ]
     },
     "execution_count": 10,
     "metadata": {},
     "output_type": "execute_result"
    }
   ],
   "source": [
    "combined_df_AAPL.columns"
   ]
  },
  {
   "cell_type": "markdown",
   "metadata": {},
   "source": [
    "Notice that the columns bid_px_N denote the bid price at level N (top level then N=00), bid_sz_N denote the bid size at level N. Similarily for ask levels. "
   ]
  },
  {
   "cell_type": "markdown",
   "metadata": {},
   "source": [
    "We implement the best level OFI algorithm as described in the paper"
   ]
  },
  {
   "cell_type": "code",
   "execution_count": 11,
   "metadata": {},
   "outputs": [],
   "source": [
    "def compute_best_level_ofi(df):\n",
    "    \"\"\"\n",
    "    Compute best-level OFI (Order Flow Imbalance) \n",
    "    input df need to have the following columns\n",
    "      - 'bid_px_01', 'bid_sz_01' (best bid price, size)\n",
    "      - 'ask_px_01', 'ask_sz_01' (best ask price, size)\n",
    "    \n",
    "    The OF formula (based on the essay) for level 1 and for each row t compares row t to t-1 (in essay denoted as update n comparing to update n-1):\n",
    "      OF_bid(t) = \n",
    "          bid_sz_01(t),                 if bid_px_01(t) > bid_px_01(t-1)\n",
    "         -bid_sz_01(t),              if bid_px_01(t) < bid_px_01(t-1)\n",
    "          [bid_sz_01(t) - bid_sz_01(t-1)], otherwise\n",
    "      OF_ask(t) is computed similarly, then\n",
    "      best_OFI(t) = OF_bid(t) - OF_ask(t).\n",
    "    \"\"\"\n",
    "    \n",
    "    # Shift columns to compare current row with the previous row\n",
    "    df['prev_bid_px'] = df['bid_px_01'].shift()\n",
    "    df['prev_bid_sz'] = df['bid_sz_01'].shift()\n",
    "    df['prev_ask_px'] = df['ask_px_01'].shift()\n",
    "    df['prev_ask_sz'] = df['ask_sz_01'].shift()\n",
    "    \n",
    "    def row_ofi(row):\n",
    "        # --- Bid side ---\n",
    "        if pd.isnull(row['prev_bid_px']):\n",
    "            # First row (no previous data)\n",
    "            of_bid = 0.0\n",
    "        else:\n",
    "            if row['bid_px_01'] > row['prev_bid_px']:\n",
    "                of_bid = row['bid_sz_01']\n",
    "            elif row['bid_px_01'] < row['prev_bid_px']:\n",
    "                of_bid = -row['bid_sz_01']\n",
    "            else:\n",
    "                of_bid = row['bid_sz_01'] - row['prev_bid_sz']\n",
    "                \n",
    "        # --- Ask side ---\n",
    "        if pd.isnull(row['prev_ask_px']):\n",
    "            # First row (no previous data)\n",
    "            of_ask = 0.0\n",
    "        else:\n",
    "            if row['ask_px_01'] < row['prev_ask_px']:\n",
    "                of_ask = row['ask_sz_01']\n",
    "            elif row['ask_px_01'] > row['prev_ask_px']:\n",
    "                of_ask = -row['ask_sz_01']\n",
    "            else:\n",
    "                of_ask = row['ask_sz_01'] - row['prev_ask_sz']\n",
    "        \n",
    "        return of_bid - of_ask\n",
    "    \n",
    "    # Apply the row_ofi function to each row\n",
    "    df['best_level_ofi']=df.apply(row_ofi, axis=1)\n",
    "    return df['best_level_ofi']"
   ]
  },
  {
   "cell_type": "code",
   "execution_count": 12,
   "metadata": {},
   "outputs": [],
   "source": [
    "best_level_ofi_AAPL = compute_best_level_ofi(combined_df_AAPL)\n",
    "\n"
   ]
  },
  {
   "cell_type": "code",
   "execution_count": 13,
   "metadata": {},
   "outputs": [
    {
     "data": {
      "text/plain": [
       "(25602477,)"
      ]
     },
     "execution_count": 13,
     "metadata": {},
     "output_type": "execute_result"
    }
   ],
   "source": [
    "best_level_ofi_AAPL.shape"
   ]
  },
  {
   "cell_type": "code",
   "execution_count": null,
   "metadata": {},
   "outputs": [],
   "source": [
    "best_level_ofi_AMGN = compute_best_level_ofi(combined_df_AMGN)\n",
    "best_level_ofi_TSLA = compute_best_level_ofi(combined_df_TSLA)\n",
    "best_level_ofi_JPM = compute_best_level_ofi(combined_df_JPM)\n",
    "best_level_ofi_XOM = compute_best_level_ofi(combined_df_XOM)"
   ]
  },
  {
   "cell_type": "code",
   "execution_count": null,
   "metadata": {},
   "outputs": [],
   "source": [
    "def compute_multi_level_ofi(df, levels=5):\n",
    "    \"\"\"\n",
    "    Compute multi-level OFI across 'levels' levels of the order book.\n",
    "    We assume your DataFrame has columns like:\n",
    "      bid_px_0X, bid_sz_0X,\n",
    "      ask_px_0X, ask_sz_0X\n",
    "    for X in 0..(levels-1).\n",
    "\n",
    "    For each level, we use the same calculation method\n",
    "    Parameters:\n",
    "        df (pd.DataFrame): Data with order-book columns\n",
    "        levels (int): How many levels to include (e.g., 5 or 10)\n",
    "    \n",
    "    Returns:\n",
    "        pd.DataFrame: The original DataFrame with extra columns:\n",
    "                      ofi_lvl_0, ofi_lvl_1, ..., and multi_ofi.\n",
    "    \"\"\"\n",
    "    # For each level, create columns for the previous row's px and sz\n",
    "    # Then compute an OFI for that level\n",
    "    for lvl in range(2, 6): #level 2-5\n",
    "        px_bid_col = f'bid_px_0{lvl}'\n",
    "        sz_bid_col = f'bid_sz_0{lvl}'\n",
    "        px_ask_col = f'ask_px_0{lvl}'\n",
    "        sz_ask_col = f'ask_sz_0{lvl}'\n",
    "        \n",
    "        # Shift columns to compare current row with the previous row\n",
    "        df[f'prev_bid_px_{lvl}'] = df[px_bid_col].shift()\n",
    "        df[f'prev_bid_sz_{lvl}'] = df[sz_bid_col].shift()\n",
    "        df[f'prev_ask_px_{lvl}'] = df[px_ask_col].shift()\n",
    "        df[f'prev_ask_sz_{lvl}'] = df[sz_ask_col].shift()\n",
    "        \n",
    "        def row_ofi(row):\n",
    "            # --- Bid side ---\n",
    "            if pd.isnull(row[f'prev_bid_px_{lvl}']):\n",
    "                of_bid = 0.0\n",
    "            else:\n",
    "                if row[px_bid_col] > row[f'prev_bid_px_{lvl}']:\n",
    "                    of_bid = row[sz_bid_col]\n",
    "                elif row[px_bid_col] < row[f'prev_bid_px_{lvl}']:\n",
    "                    of_bid = -row[f'prev_bid_sz_{lvl}']\n",
    "                else:\n",
    "                    of_bid = row[sz_bid_col] - row[f'prev_bid_sz_{lvl}']\n",
    "            \n",
    "            # --- Ask side ---\n",
    "            if pd.isnull(row[f'prev_ask_px_{lvl}']):\n",
    "                of_ask = 0.0\n",
    "            else:\n",
    "                if row[px_ask_col] < row[f'prev_ask_px_{lvl}']:\n",
    "                    of_ask = row[sz_ask_col]\n",
    "                elif row[px_ask_col] > row[f'prev_ask_px_{lvl}']:\n",
    "                    of_ask = -row[f'prev_ask_sz_{lvl}']\n",
    "                else:\n",
    "                    of_ask = row[sz_ask_col] - row[f'prev_ask_sz_{lvl}']\n",
    "            \n",
    "            return of_bid - of_ask\n",
    "        \n",
    "        # Compute level-specific OFI for level 2-5\n",
    "        df[f'ofi_lvl_{lvl}'] = df.apply(row_ofi, axis=1)\n",
    "    \n",
    "    # retrieve each level OFI as a column and get all levels, should be a x*4 matrix, where 4 columns stands for OFI level 2 to OFI level 5\n",
    "    ofi_cols = [f'ofi_lvl_{lvl}' for lvl in range(2,6)]\n",
    "    \n",
    "    return df[ofi_cols]\n"
   ]
  },
  {
   "cell_type": "markdown",
   "metadata": {},
   "source": [
    "Once we have the OFI level 1-5 for each 5 stocks, we can then perform PCA and look for the dominant pinciple component and use it to calculate the \"\"Integrated OFI\"\""
   ]
  },
  {
   "cell_type": "code",
   "execution_count": null,
   "metadata": {},
   "outputs": [],
   "source": []
  }
 ],
 "metadata": {
  "kernelspec": {
   "display_name": "Python 3",
   "language": "python",
   "name": "python3"
  },
  "language_info": {
   "codemirror_mode": {
    "name": "ipython",
    "version": 3
   },
   "file_extension": ".py",
   "mimetype": "text/x-python",
   "name": "python",
   "nbconvert_exporter": "python",
   "pygments_lexer": "ipython3",
   "version": "3.10.5"
  }
 },
 "nbformat": 4,
 "nbformat_minor": 2
}
